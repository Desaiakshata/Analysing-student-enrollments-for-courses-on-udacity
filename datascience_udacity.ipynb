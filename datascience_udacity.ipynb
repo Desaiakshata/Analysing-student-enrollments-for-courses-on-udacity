{
  "nbformat": 4,
  "nbformat_minor": 0,
  "metadata": {
    "colab": {
      "name": "datascience_udacity.ipynb",
      "provenance": []
    },
    "kernelspec": {
      "name": "python3",
      "display_name": "Python 3"
    }
  },
  "cells": [
    {
      "cell_type": "code",
      "metadata": {
        "id": "8SuCiUyx8Fwi",
        "colab_type": "code",
        "colab": {
          "base_uri": "https://localhost:8080/",
          "height": 35
        },
        "outputId": "df69d4fa-b274-43ca-aee5-80f7cbdca11b"
      },
      "source": [
        "!pip install unicodecsv"
      ],
      "execution_count": 17,
      "outputs": [
        {
          "output_type": "stream",
          "text": [
            "Requirement already satisfied: unicodecsv in /usr/local/lib/python3.6/dist-packages (0.14.1)\n"
          ],
          "name": "stdout"
        }
      ]
    },
    {
      "cell_type": "code",
      "metadata": {
        "id": "azMGmDPb7b0P",
        "colab_type": "code",
        "colab": {}
      },
      "source": [
        "#import the required packages \n",
        "import unicodecsv\n",
        "from datetime import datetime as dt"
      ],
      "execution_count": null,
      "outputs": []
    },
    {
      "cell_type": "code",
      "metadata": {
        "id": "pc-TXUL98K2K",
        "colab_type": "code",
        "colab": {}
      },
      "source": [
        "#Functions to read the csv files and return lists of records\n",
        "def read_csv(filename):\n",
        "    with open(filename, 'rb') as f:\n",
        "        reader = unicodecsv.DictReader(f)\n",
        "        return list(reader)\n"
      ],
      "execution_count": null,
      "outputs": []
    },
    {
      "cell_type": "code",
      "metadata": {
        "id": "04PkRfF98QGe",
        "colab_type": "code",
        "colab": {}
      },
      "source": [
        "enrollments = read_csv('/content/enrollments.csv')\n",
        "daily_engagement = read_csv('/content/daily_engagement.csv')\n",
        "project_submissions = read_csv('/content/project_submissions.csv')\n"
      ],
      "execution_count": 86,
      "outputs": []
    },
    {
      "cell_type": "code",
      "metadata": {
        "id": "F-DLo_u3DU4J",
        "colab_type": "code",
        "colab": {}
      },
      "source": [
        "#Function to convert the date to a specific format that can be used easily\n",
        "def parse_date(date):\n",
        "    if date == '':\n",
        "        return None\n",
        "    else:\n",
        "        return dt.strptime(date, '%Y-%m-%d')"
      ],
      "execution_count": 23,
      "outputs": []
    },
    {
      "cell_type": "code",
      "metadata": {
        "id": "GXfXD6Ng9Ny0",
        "colab_type": "code",
        "colab": {}
      },
      "source": [
        "#Making changes to the records in the enrollments list\n",
        "for data in enrollments:\n",
        "  data['is_canceled']=data['is_canceled']=='True'\n",
        "  data['is_udacity']=data['is_udacity']=='True'\n",
        "  if data['days_to_cancel']=='':\n",
        "    data['days_to_cancel']=None\n",
        "  else:\n",
        "    data['days_to_cancel']=int(data['days_to_cancel'])\n",
        "  data['join_date']=parse_date(data['join_date'])\n",
        "  data['cancel_date']=parse_date(data['cancel_date'])\n",
        "\n",
        "\n",
        "#Making changes to the records in the daily_engagement lists\n",
        "for data in daily_engagement:\n",
        "  data['account_key'] = int(data['acct'])\n",
        "  data['utc_date'] = parse_date(data['utc_date'])\n",
        "  data['num_courses_visited'] = float(data['num_courses_visited'])\n",
        "  data['total_minutes_visited'] = float(data['total_minutes_visited'])\n",
        "  data['lessons_completed'] = float(data['lessons_completed'])\n",
        "  data['projects_completed'] = float(data['projects_completed'])\n",
        "  del(data['acct']) \n",
        "\n",
        "\n",
        "#Making changes to the records in the project_submissions lists\n",
        "for data in project_submissions:\n",
        "  data['creation_date'] = parse_date(data['creation_date'])\n",
        "  data['completion_date'] = parse_date(data['completion_date'])\n",
        "  data['account_key'] = int(data['account_key'])\n",
        "  data['lesson_key'] = int(data['lesson_key'])"
      ],
      "execution_count": 24,
      "outputs": []
    },
    {
      "cell_type": "code",
      "metadata": {
        "id": "c_bM0v7Yt2FU",
        "colab_type": "code",
        "colab": {
          "base_uri": "https://localhost:8080/",
          "height": 69
        },
        "outputId": "f8f6cd30-9eb1-419d-e4e4-9f672424ea03"
      },
      "source": [
        "#Finding the otal number of unique enrollment, daily_engagement and project_submission recods \n",
        "\n",
        "unique_enrollments = set()\n",
        "unique_student_engagement = set()\n",
        "unique_project_submissions = set()\n",
        "\n",
        "for i in enrollments:\n",
        "  unique_enrollments.add(i['account_key'])\n",
        "for i in daily_engagement:\n",
        "  unique_student_engagement.add(i['account_key'])\n",
        "for i in project_submissions:\n",
        "  unique_project_submissions.add(i['account_key'])\n",
        "  \n",
        "print('Num of unique_enrollments:',len(unique_enrollments),'\\nNum of unique_student_engagement:',len(unique_student_engagement),'\\nNum of unique_project_submissions:',len(unique_project_submissions))"
      ],
      "execution_count": 85,
      "outputs": [
        {
          "output_type": "stream",
          "text": [
            "Num of unique_enrollments: 1302 \n",
            "Num of unique_student_engagement: 1237 \n",
            "Num of unique_project_submissions: 743\n"
          ],
          "name": "stdout"
        }
      ]
    },
    {
      "cell_type": "code",
      "metadata": {
        "id": "TB_zvO-0-USz",
        "colab_type": "code",
        "colab": {
          "base_uri": "https://localhost:8080/",
          "height": 69
        },
        "outputId": "5e078bfb-3777-4d9a-baec-cc08a4edc770"
      },
      "source": [
        "'''\n",
        "Creating lists for recods that do not belong to the udacity test accounts. This is done by checking the \n",
        "'is_udacity' field in the enrollments records and keeping all those accounts that have a value 'False'\n",
        "'''\n",
        "\n",
        "non_udacity_enrollments = list()\n",
        "non_udacity_engagements = list()\n",
        "non_udacity_submissions = list()\n",
        "non_udacity_accounts = set()\n",
        "\n",
        "\n",
        "for data in enrollments:\n",
        "  if data['is_udacity']:\n",
        "    non_udacity_accounts.add(data['account_key']) \n",
        "\n",
        "\n",
        "def remove_udacity_accounts(list1):\n",
        "  list2 = []\n",
        "  for data in list1:\n",
        "    if data['account_key'] not in non_udacity_accounts:\n",
        "      list2.append(data) \n",
        "  return list2    \n",
        "\n",
        "non_udacity_enrollments = remove_udacity_accounts(enrollments)\n",
        "non_udacity_engagements = remove_udacity_accounts(daily_engagement)\n",
        "non_udacity_submissions = remove_udacity_accounts(project_submissions)\n",
        "\n",
        "print('Num of non_udacity_enrollments:',len(non_udacity_enrollments),'\\nNum of non_udacity_engagements:',len(non_udacity_engagements),'\\nNum of non_udacity_submissions:',len(non_udacity_submissions))"
      ],
      "execution_count": 84,
      "outputs": [
        {
          "output_type": "stream",
          "text": [
            "Num of non_udacity_enrollments: 1622 \n",
            "Num of non_udacity_engagements: 136240 \n",
            "Num of non_udacity_submissions: 3642\n"
          ],
          "name": "stdout"
        }
      ]
    },
    {
      "cell_type": "code",
      "metadata": {
        "id": "8c5gKFm4Gczr",
        "colab_type": "code",
        "colab": {
          "base_uri": "https://localhost:8080/",
          "height": 35
        },
        "outputId": "ec41f7ef-9995-4686-e6fa-8572602309fb"
      },
      "source": [
        "#Creating a list of those students who have paid for the courses by being enrolled for more than 7 days\n",
        "paid_students = {}\n",
        "for data in non_udacity_enrollments:\n",
        "  if not data['is_canceled'] or data['days_to_cancel']>7:\n",
        "    account_key = int(data['account_key'])\n",
        "    enrollment_date = (data['join_date'])\n",
        "    if (account_key not in paid_students) or (enrollment_date < paid_students[account_key]):\n",
        "      paid_students[account_key] = data['join_date']\n",
        "\n",
        "print('Num of paid enrollments:',len(paid_students))"
      ],
      "execution_count": 82,
      "outputs": [
        {
          "output_type": "stream",
          "text": [
            "Num of paid enrollments: 995\n"
          ],
          "name": "stdout"
        }
      ]
    },
    {
      "cell_type": "code",
      "metadata": {
        "id": "7Oj8Bvp6PyU8",
        "colab_type": "code",
        "colab": {}
      },
      "source": [
        "#Creating a list of a week's data for students who have paid for the courses they have enrolled.\n",
        "\n",
        "paid_engagement_in_first_week = list()\n",
        "\n",
        "for i in non_udacity_engagements:\n",
        "  account_key = i['account_key']\n",
        "  if account_key in paid_students:\n",
        "    diff_days = i['utc_date'] - paid_students[account_key]  \n",
        "    if diff_days.days < 7 and diff_days.days >= 0:\n",
        "      if account_key == 168:\n",
        "        print(diff_days,i['utc_date'],paid_students[account_key])\n",
        "      paid_engagement_in_first_week.append(i)\n",
        "\n",
        "#Creating a field 'has_visited' if the student has visited 1 or more courses on that particular day\n",
        "for engagement_record in paid_engagement_in_first_week:\n",
        "    if engagement_record['num_courses_visited'] > 0:\n",
        "        engagement_record['has_visited'] = 1 \n",
        "    else:\n",
        "        engagement_record['has_visited'] = 0 \n",
        "\n"
      ],
      "execution_count": null,
      "outputs": []
    },
    {
      "cell_type": "code",
      "metadata": {
        "id": "l7Hg0pPNZAOj",
        "colab_type": "code",
        "colab": {}
      },
      "source": [
        "'''\n",
        "Creating utility functions that help in finsing the mean, std deviation, max and min for different records\n",
        "such as:\n",
        "\n",
        "--The total minutes spent by the student in the first week\n",
        "--Total courses completed by the student in the first week\n",
        "--Total days visited by the student in the first week\n",
        "\n",
        "These metrics help to analyse the patterns for students who pass the first project and those who don't\n",
        "'''\n",
        "\n",
        "from collections import defaultdict\n",
        "import numpy as np\n",
        "\n",
        "def group_data(data, key_name):\n",
        "    grouped_data = defaultdict(list)\n",
        "    for data_point in data:\n",
        "        key = data_point[key_name]\n",
        "        grouped_data[key].append(data_point)\n",
        "    return grouped_data\n",
        "\n",
        "\n",
        "def sum_grouped_items(grouped_data, field_name):\n",
        "    summed_data = {}\n",
        "    for key, data_points in grouped_data.items():\n",
        "        total = 0\n",
        "        for data_point in data_points:\n",
        "            total += data_point[field_name]\n",
        "        summed_data[key] = total\n",
        "    return summed_data\n",
        "\n",
        "\n",
        "def describe_data(data):\n",
        "    data=list(data)\n",
        "    print('Mean:', np.mean(data))\n",
        "    print('Standard deviation:', np.std(data))\n",
        "    print('Minimum:', np.min(data))\n",
        "    print('Maximum:', np.max(data))\n"
      ],
      "execution_count": 78,
      "outputs": []
    },
    {
      "cell_type": "code",
      "metadata": {
        "id": "KYd5mrESdDpS",
        "colab_type": "code",
        "colab": {
          "base_uri": "https://localhost:8080/",
          "height": 312
        },
        "outputId": "bdb2a681-db16-4580-e563-0f2ca05a5a65"
      },
      "source": [
        "#Printing various statistics for all paid engagements during the first week\n",
        "\n",
        "print('Statistics for total mintes vsted by students during the first week')\n",
        "engagement_by_account = group_data(paid_engagement_in_first_week,\n",
        "                                   'account_key')\n",
        "total_minutes_by_account = sum_grouped_items(engagement_by_account,\n",
        "                                             'total_minutes_visited')\n",
        "\n",
        "describe_data(total_minutes_by_account.values())\n",
        "\n",
        "print('\\nStatistics for total lessons completed by the student during the first week')\n",
        "lessons_completed_by_account = sum_grouped_items(engagement_by_account,\n",
        "                                                'lessons_completed')\n",
        "describe_data(lessons_completed_by_account.values())\n",
        "\n",
        "print('\\nStatistics for total days visited by students during the first week')\n",
        "days_visited_by_account = sum_grouped_items(engagement_by_account,\n",
        "                                            'has_visited')\n",
        "describe_data(days_visited_by_account.values())"
      ],
      "execution_count": 77,
      "outputs": [
        {
          "output_type": "stream",
          "text": [
            "Statistics for total mintes vsted by students during the first week\n",
            "Mean: 328.6152716651489\n",
            "Standard deviation: 412.7251965631992\n",
            "Minimum: 0.0\n",
            "Maximum: 3564.7332644989997\n",
            "\n",
            "Statistics for total lessons completed by the student during the first week\n",
            "Mean: 1.693467336683417\n",
            "Standard deviation: 3.0227791029472386\n",
            "Minimum: 0.0\n",
            "Maximum: 36.0\n",
            "\n",
            "Statistics for total days visited by students during the first week\n",
            "Mean: 3.1125628140703516\n",
            "Standard deviation: 2.1921268360087813\n",
            "Minimum: 0\n",
            "Maximum: 7\n"
          ],
          "name": "stdout"
        }
      ]
    },
    {
      "cell_type": "code",
      "metadata": {
        "id": "TTVrV_-Ewl4c",
        "colab_type": "code",
        "colab": {
          "base_uri": "https://localhost:8080/",
          "height": 52
        },
        "outputId": "74a66ecd-40f9-4bbb-80af-73bf0686b42d"
      },
      "source": [
        "'''\n",
        "Creating a list of students who pass the project v/s who donot pass the project. The project considered \n",
        "is the subway project which can be looked up by the project key as shown in the code below.Printing out \n",
        "the number of students who pass and those who do not pass.\n",
        "'''\n",
        "\n",
        "proj_pass=[]\n",
        "passing_engagement = []\n",
        "non_passing_engagement = []\n",
        "for data in non_udacity_submissions:\n",
        "  if data['account_key'] in paid_students:\n",
        "    if data['lesson_key'] in [746169184,3176718735]:\n",
        "      account_key = data['account_key']\n",
        "      if data['assigned_rating'] in ['PASSED','DISTINCTION']:\n",
        "        proj_pass.append(account_key)\n",
        "\n",
        "for data in paid_engagement_in_first_week:\n",
        "  if data['account_key'] in proj_pass:   \n",
        "        passing_engagement.append(data)\n",
        "  else:\n",
        "        non_passing_engagement.append(data)\n",
        "print('Num of passing_engagement:',len(passing_engagement),'\\nNum of non-passing_engagement:',len(non_passing_engagement)) "
      ],
      "execution_count": 81,
      "outputs": [
        {
          "output_type": "stream",
          "text": [
            "Num of passing_engagement: 4528 \n",
            "Num of non-passing_engagement: 2392\n"
          ],
          "name": "stdout"
        }
      ]
    },
    {
      "cell_type": "code",
      "metadata": {
        "id": "5_9u0te6YaSc",
        "colab_type": "code",
        "colab": {
          "base_uri": "https://localhost:8080/",
          "height": 208
        },
        "outputId": "d038876c-ada2-43e2-db35-d9ff70bd7fdc"
      },
      "source": [
        "#Stats for mintes spent by both groups of students\n",
        "\n",
        "passing_engagement_by_account = group_data(passing_engagement,'account_key')\n",
        "total_minutes_by_account_p = sum_grouped_items(passing_engagement_by_account,'total_minutes_visited')\n",
        "print('Passing students minutes spent:')\n",
        "describe_data(total_minutes_by_account_p.values())\n",
        "\n",
        "non_passing_engagement_by_account = group_data(non_passing_engagement,'account_key')\n",
        "total_minutes_by_account_np = sum_grouped_items(non_passing_engagement_by_account,'total_minutes_visited')\n",
        "print('\\nNon-Passing students minutes spent:')\n",
        "describe_data(total_minutes_by_account_np.values())"
      ],
      "execution_count": 63,
      "outputs": [
        {
          "output_type": "stream",
          "text": [
            "Passing students minutes spent:\n",
            "Mean: 419.90178790493724\n",
            "Standard deviation: 443.88042682080544\n",
            "Minimum: 0.0\n",
            "Maximum: 3564.7332644989997\n",
            "\n",
            "Non-Passing students minutes spent:\n",
            "Mean: 158.89580038025503\n",
            "Standard deviation: 276.45353327459617\n",
            "Minimum: 0.0\n",
            "Maximum: 1768.5227493319999\n"
          ],
          "name": "stdout"
        }
      ]
    },
    {
      "cell_type": "code",
      "metadata": {
        "id": "oxqgdVM9aLW-",
        "colab_type": "code",
        "colab": {
          "base_uri": "https://localhost:8080/",
          "height": 208
        },
        "outputId": "7a0e6fee-d66f-4175-a800-60ec37afd6ac"
      },
      "source": [
        "#Stats for courses completed by both groups of students\n",
        "\n",
        "passing_engagement_by_account = group_data(passing_engagement,'account_key')\n",
        "total_lessons_by_account_p = sum_grouped_items(passing_engagement_by_account,'lessons_completed')\n",
        "print('Passing students lessons completed:')\n",
        "describe_data(total_lessons_by_account_p.values())\n",
        "\n",
        "non_passing_engagement_by_account = group_data(non_passing_engagement,'account_key')\n",
        "total_lessons_by_account_np = sum_grouped_items(non_passing_engagement_by_account,'lessons_completed')\n",
        "print('\\nNon-Passing students lessons completed:')\n",
        "describe_data(total_lessons_by_account_np.values())"
      ],
      "execution_count": 52,
      "outputs": [
        {
          "output_type": "stream",
          "text": [
            "Passing students lessons completed:\n",
            "Mean: 2.123647604327666\n",
            "Standard deviation: 3.158880955295347\n",
            "Minimum: 0.0\n",
            "Maximum: 36.0\n",
            "\n",
            "Non-Passing students lessons completed:\n",
            "Mean: 0.8936781609195402\n",
            "Standard deviation: 2.566957416705277\n",
            "Minimum: 0.0\n",
            "Maximum: 27.0\n"
          ],
          "name": "stdout"
        }
      ]
    },
    {
      "cell_type": "code",
      "metadata": {
        "id": "9oXlHD6uO6R8",
        "colab_type": "code",
        "colab": {
          "base_uri": "https://localhost:8080/",
          "height": 208
        },
        "outputId": "7ab61382-0d4d-4dc4-e996-350adeb9002c"
      },
      "source": [
        "#Stats for total days visited for both groups of students\n",
        "\n",
        "passing_engagement_by_account = group_data(passing_engagement,'account_key')\n",
        "total_days_visited_by_account_p = sum_grouped_items(passing_engagement_by_account,'has_visited')\n",
        "print('Passing students days visited:')\n",
        "describe_data(total_days_visited_by_account_p.values())\n",
        "\n",
        "non_passing_engagement_by_account = group_data(non_passing_engagement,'account_key')\n",
        "total_days_visited_by_account_np = sum_grouped_items(non_passing_engagement_by_account,'has_visited')\n",
        "print('\\nNon-Passing students days visited:')\n",
        "describe_data(total_days_visited_by_account_np.values())"
      ],
      "execution_count": 53,
      "outputs": [
        {
          "output_type": "stream",
          "text": [
            "Passing students days visited:\n",
            "Mean: 3.6723338485316845\n",
            "Standard deviation: 2.1318714797122227\n",
            "Minimum: 0\n",
            "Maximum: 7\n",
            "\n",
            "Non-Passing students days visited:\n",
            "Mean: 2.07183908045977\n",
            "Standard deviation: 1.9037199088485366\n",
            "Minimum: 0\n",
            "Maximum: 7\n"
          ],
          "name": "stdout"
        }
      ]
    },
    {
      "cell_type": "code",
      "metadata": {
        "id": "UPLooHPMI8X5",
        "colab_type": "code",
        "colab": {
          "base_uri": "https://localhost:8080/",
          "height": 313
        },
        "outputId": "abca3b09-ba25-4a8f-823d-76ed1543ed4f"
      },
      "source": [
        "%matplotlib inline\n",
        "import matplotlib.pyplot as plt\n",
        "\n",
        "plt.hist(total_minutes_by_account_p.values())\n",
        "plt.hist(total_minutes_by_account_np.values())\n",
        "plt.xlabel('total minutes spent on udacity by students')\n",
        "plt.title('Histogram of total minutes spent on udacity for students who pass v/s those who dont pass')"
      ],
      "execution_count": 73,
      "outputs": [
        {
          "output_type": "execute_result",
          "data": {
            "text/plain": [
              "Text(0.5, 1.0, 'Histogram of total minutes spent on udacity for students who pass v/s those who dont pass')"
            ]
          },
          "metadata": {
            "tags": []
          },
          "execution_count": 73
        },
        {
          "output_type": "display_data",
          "data": {
            "image/png": "[encoded data removed]",
            "text/plain": [
              "<Figure size 432x288 with 1 Axes>"
            ]
          },
          "metadata": {
            "tags": [],
            "needs_background": "light"
          }
        }
      ]
    },
    {
      "cell_type": "code",
      "metadata": {
        "id": "yJ3L5YGbPqmQ",
        "colab_type": "code",
        "colab": {
          "base_uri": "https://localhost:8080/",
          "height": 313
        },
        "outputId": "0bb0d8fc-26ba-4010-f97b-0d265a8f617b"
      },
      "source": [
        "%matplotlib inline\n",
        "import matplotlib.pyplot as plt\n",
        "\n",
        "plt.hist(total_lessons_by_account_p.values(),bins=8)\n",
        "plt.hist(total_lessons_by_account_np.values(),bins=8)\n",
        "plt.xlabel('Lessons completed by students')\n",
        "plt.title('Histogram of total total lessons completed for students who pass v/s those who dont pass')"
      ],
      "execution_count": 72,
      "outputs": [
        {
          "output_type": "execute_result",
          "data": {
            "text/plain": [
              "Text(0.5, 1.0, 'Histogram of total total lessons completed for students who pass v/s those who dont pass')"
            ]
          },
          "metadata": {
            "tags": []
          },
          "execution_count": 72
        },
        {
          "output_type": "display_data",
          "data": {
            "image/png": "[encoded data removed]",
            "text/plain": [
              "<Figure size 432x288 with 1 Axes>"
            ]
          },
          "metadata": {
            "tags": [],
            "needs_background": "light"
          }
        }
      ]
    },
    {
      "cell_type": "code",
      "metadata": {
        "id": "r0uRBqVVPrbY",
        "colab_type": "code",
        "colab": {
          "base_uri": "https://localhost:8080/",
          "height": 313
        },
        "outputId": "47fca30b-c0ba-49b4-a397-501ac84a0f91"
      },
      "source": [
        "%matplotlib inline\n",
        "import matplotlib.pyplot as plt\n",
        "\n",
        "plt.hist(total_days_visited_by_account_p.values(),bins=10)\n",
        "plt.hist(total_days_visited_by_account_np.values(),bins=10)\n",
        "plt.xlabel('Days visited by students')\n",
        "plt.title('Histogram of total days visited for students who pass v/s those who dont pass')"
      ],
      "execution_count": 71,
      "outputs": [
        {
          "output_type": "execute_result",
          "data": {
            "text/plain": [
              "Text(0.5, 1.0, 'Histogram of total days visited for students who pass v/s those who dont pass')"
            ]
          },
          "metadata": {
            "tags": []
          },
          "execution_count": 71
        },
        {
          "output_type": "display_data",
          "data": {
            "image/png": "[encoded data removed]",
            "text/plain": [
              "<Figure size 432x288 with 1 Axes>"
            ]
          },
          "metadata": {
            "tags": [],
            "needs_background": "light"
          }
        }
      ]
    }
  ]
}